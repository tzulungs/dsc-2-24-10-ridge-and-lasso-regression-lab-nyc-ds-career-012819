{
 "cells": [
  {
   "cell_type": "markdown",
   "metadata": {},
   "source": [
    "# Ridge and Lasso Regression - Lab"
   ]
  },
  {
   "cell_type": "markdown",
   "metadata": {},
   "source": [
    "## Introduction"
   ]
  },
  {
   "cell_type": "markdown",
   "metadata": {},
   "source": [
    "In this lab, you'll practice your knowledge on Ridge and Lasso regression!"
   ]
  },
  {
   "cell_type": "markdown",
   "metadata": {},
   "source": [
    "## Objectives"
   ]
  },
  {
   "cell_type": "markdown",
   "metadata": {},
   "source": [
    "You will be able to:"
   ]
  },
  {
   "cell_type": "markdown",
   "metadata": {},
   "source": [
    "- Use Lasso and ridge regression in Python\n",
    "- Compare Lasso and Ridge with standard regression"
   ]
  },
  {
   "cell_type": "markdown",
   "metadata": {},
   "source": [
    "## Housing Prices Data"
   ]
  },
  {
   "cell_type": "markdown",
   "metadata": {},
   "source": [
    "Let's look at yet another house pricing data set."
   ]
  },
  {
   "cell_type": "code",
   "execution_count": 1,
   "metadata": {},
   "outputs": [],
   "source": [
    "import pandas as pd\n",
    "import warnings\n",
    "warnings.filterwarnings('ignore')\n",
    "\n",
    "df = pd.read_csv('Housing_Prices/train.csv')"
   ]
  },
  {
   "cell_type": "markdown",
   "metadata": {},
   "source": [
    "Look at df.info"
   ]
  },
  {
   "cell_type": "code",
   "execution_count": 2,
   "metadata": {},
   "outputs": [
    {
     "data": {
      "text/plain": [
       "<bound method DataFrame.info of         Id  MSSubClass MSZoning  LotFrontage  LotArea Street Alley LotShape  \\\n",
       "0        1          60       RL         65.0     8450   Pave   NaN      Reg   \n",
       "1        2          20       RL         80.0     9600   Pave   NaN      Reg   \n",
       "2        3          60       RL         68.0    11250   Pave   NaN      IR1   \n",
       "3        4          70       RL         60.0     9550   Pave   NaN      IR1   \n",
       "4        5          60       RL         84.0    14260   Pave   NaN      IR1   \n",
       "5        6          50       RL         85.0    14115   Pave   NaN      IR1   \n",
       "6        7          20       RL         75.0    10084   Pave   NaN      Reg   \n",
       "7        8          60       RL          NaN    10382   Pave   NaN      IR1   \n",
       "8        9          50       RM         51.0     6120   Pave   NaN      Reg   \n",
       "9       10         190       RL         50.0     7420   Pave   NaN      Reg   \n",
       "10      11          20       RL         70.0    11200   Pave   NaN      Reg   \n",
       "11      12          60       RL         85.0    11924   Pave   NaN      IR1   \n",
       "12      13          20       RL          NaN    12968   Pave   NaN      IR2   \n",
       "13      14          20       RL         91.0    10652   Pave   NaN      IR1   \n",
       "14      15          20       RL          NaN    10920   Pave   NaN      IR1   \n",
       "15      16          45       RM         51.0     6120   Pave   NaN      Reg   \n",
       "16      17          20       RL          NaN    11241   Pave   NaN      IR1   \n",
       "17      18          90       RL         72.0    10791   Pave   NaN      Reg   \n",
       "18      19          20       RL         66.0    13695   Pave   NaN      Reg   \n",
       "19      20          20       RL         70.0     7560   Pave   NaN      Reg   \n",
       "20      21          60       RL        101.0    14215   Pave   NaN      IR1   \n",
       "21      22          45       RM         57.0     7449   Pave  Grvl      Reg   \n",
       "22      23          20       RL         75.0     9742   Pave   NaN      Reg   \n",
       "23      24         120       RM         44.0     4224   Pave   NaN      Reg   \n",
       "24      25          20       RL          NaN     8246   Pave   NaN      IR1   \n",
       "25      26          20       RL        110.0    14230   Pave   NaN      Reg   \n",
       "26      27          20       RL         60.0     7200   Pave   NaN      Reg   \n",
       "27      28          20       RL         98.0    11478   Pave   NaN      Reg   \n",
       "28      29          20       RL         47.0    16321   Pave   NaN      IR1   \n",
       "29      30          30       RM         60.0     6324   Pave   NaN      IR1   \n",
       "...    ...         ...      ...          ...      ...    ...   ...      ...   \n",
       "1430  1431          60       RL         60.0    21930   Pave   NaN      IR3   \n",
       "1431  1432         120       RL          NaN     4928   Pave   NaN      IR1   \n",
       "1432  1433          30       RL         60.0    10800   Pave  Grvl      Reg   \n",
       "1433  1434          60       RL         93.0    10261   Pave   NaN      IR1   \n",
       "1434  1435          20       RL         80.0    17400   Pave   NaN      Reg   \n",
       "1435  1436          20       RL         80.0     8400   Pave   NaN      Reg   \n",
       "1436  1437          20       RL         60.0     9000   Pave   NaN      Reg   \n",
       "1437  1438          20       RL         96.0    12444   Pave   NaN      Reg   \n",
       "1438  1439          20       RM         90.0     7407   Pave   NaN      Reg   \n",
       "1439  1440          60       RL         80.0    11584   Pave   NaN      Reg   \n",
       "1440  1441          70       RL         79.0    11526   Pave   NaN      IR1   \n",
       "1441  1442         120       RM          NaN     4426   Pave   NaN      Reg   \n",
       "1442  1443          60       FV         85.0    11003   Pave   NaN      Reg   \n",
       "1443  1444          30       RL          NaN     8854   Pave   NaN      Reg   \n",
       "1444  1445          20       RL         63.0     8500   Pave   NaN      Reg   \n",
       "1445  1446          85       RL         70.0     8400   Pave   NaN      Reg   \n",
       "1446  1447          20       RL          NaN    26142   Pave   NaN      IR1   \n",
       "1447  1448          60       RL         80.0    10000   Pave   NaN      Reg   \n",
       "1448  1449          50       RL         70.0    11767   Pave   NaN      Reg   \n",
       "1449  1450         180       RM         21.0     1533   Pave   NaN      Reg   \n",
       "1450  1451          90       RL         60.0     9000   Pave   NaN      Reg   \n",
       "1451  1452          20       RL         78.0     9262   Pave   NaN      Reg   \n",
       "1452  1453         180       RM         35.0     3675   Pave   NaN      Reg   \n",
       "1453  1454          20       RL         90.0    17217   Pave   NaN      Reg   \n",
       "1454  1455          20       FV         62.0     7500   Pave  Pave      Reg   \n",
       "1455  1456          60       RL         62.0     7917   Pave   NaN      Reg   \n",
       "1456  1457          20       RL         85.0    13175   Pave   NaN      Reg   \n",
       "1457  1458          70       RL         66.0     9042   Pave   NaN      Reg   \n",
       "1458  1459          20       RL         68.0     9717   Pave   NaN      Reg   \n",
       "1459  1460          20       RL         75.0     9937   Pave   NaN      Reg   \n",
       "\n",
       "     LandContour Utilities    ...     PoolArea PoolQC  Fence MiscFeature  \\\n",
       "0            Lvl    AllPub    ...            0    NaN    NaN         NaN   \n",
       "1            Lvl    AllPub    ...            0    NaN    NaN         NaN   \n",
       "2            Lvl    AllPub    ...            0    NaN    NaN         NaN   \n",
       "3            Lvl    AllPub    ...            0    NaN    NaN         NaN   \n",
       "4            Lvl    AllPub    ...            0    NaN    NaN         NaN   \n",
       "5            Lvl    AllPub    ...            0    NaN  MnPrv        Shed   \n",
       "6            Lvl    AllPub    ...            0    NaN    NaN         NaN   \n",
       "7            Lvl    AllPub    ...            0    NaN    NaN        Shed   \n",
       "8            Lvl    AllPub    ...            0    NaN    NaN         NaN   \n",
       "9            Lvl    AllPub    ...            0    NaN    NaN         NaN   \n",
       "10           Lvl    AllPub    ...            0    NaN    NaN         NaN   \n",
       "11           Lvl    AllPub    ...            0    NaN    NaN         NaN   \n",
       "12           Lvl    AllPub    ...            0    NaN    NaN         NaN   \n",
       "13           Lvl    AllPub    ...            0    NaN    NaN         NaN   \n",
       "14           Lvl    AllPub    ...            0    NaN   GdWo         NaN   \n",
       "15           Lvl    AllPub    ...            0    NaN  GdPrv         NaN   \n",
       "16           Lvl    AllPub    ...            0    NaN    NaN        Shed   \n",
       "17           Lvl    AllPub    ...            0    NaN    NaN        Shed   \n",
       "18           Lvl    AllPub    ...            0    NaN    NaN         NaN   \n",
       "19           Lvl    AllPub    ...            0    NaN  MnPrv         NaN   \n",
       "20           Lvl    AllPub    ...            0    NaN    NaN         NaN   \n",
       "21           Bnk    AllPub    ...            0    NaN  GdPrv         NaN   \n",
       "22           Lvl    AllPub    ...            0    NaN    NaN         NaN   \n",
       "23           Lvl    AllPub    ...            0    NaN    NaN         NaN   \n",
       "24           Lvl    AllPub    ...            0    NaN  MnPrv         NaN   \n",
       "25           Lvl    AllPub    ...            0    NaN    NaN         NaN   \n",
       "26           Lvl    AllPub    ...            0    NaN    NaN         NaN   \n",
       "27           Lvl    AllPub    ...            0    NaN    NaN         NaN   \n",
       "28           Lvl    AllPub    ...            0    NaN    NaN         NaN   \n",
       "29           Lvl    AllPub    ...            0    NaN    NaN         NaN   \n",
       "...          ...       ...    ...          ...    ...    ...         ...   \n",
       "1430         Lvl    AllPub    ...            0    NaN    NaN         NaN   \n",
       "1431         Lvl    AllPub    ...            0    NaN    NaN         NaN   \n",
       "1432         Lvl    AllPub    ...            0    NaN    NaN         NaN   \n",
       "1433         Lvl    AllPub    ...            0    NaN    NaN         NaN   \n",
       "1434         Low    AllPub    ...            0    NaN    NaN         NaN   \n",
       "1435         Lvl    AllPub    ...            0    NaN  GdPrv         NaN   \n",
       "1436         Lvl    AllPub    ...            0    NaN   GdWo         NaN   \n",
       "1437         Lvl    AllPub    ...            0    NaN    NaN         NaN   \n",
       "1438         Lvl    AllPub    ...            0    NaN  MnPrv         NaN   \n",
       "1439         Lvl    AllPub    ...            0    NaN    NaN         NaN   \n",
       "1440         Bnk    AllPub    ...            0    NaN    NaN         NaN   \n",
       "1441         Lvl    AllPub    ...            0    NaN    NaN         NaN   \n",
       "1442         Lvl    AllPub    ...            0    NaN    NaN         NaN   \n",
       "1443         Lvl    AllPub    ...            0    NaN    NaN         NaN   \n",
       "1444         Lvl    AllPub    ...            0    NaN    NaN         NaN   \n",
       "1445         Lvl    AllPub    ...            0    NaN    NaN         NaN   \n",
       "1446         Lvl    AllPub    ...            0    NaN    NaN         NaN   \n",
       "1447         Lvl    AllPub    ...            0    NaN    NaN         NaN   \n",
       "1448         Lvl    AllPub    ...            0    NaN   GdWo         NaN   \n",
       "1449         Lvl    AllPub    ...            0    NaN    NaN         NaN   \n",
       "1450         Lvl    AllPub    ...            0    NaN    NaN         NaN   \n",
       "1451         Lvl    AllPub    ...            0    NaN    NaN         NaN   \n",
       "1452         Lvl    AllPub    ...            0    NaN    NaN         NaN   \n",
       "1453         Lvl    AllPub    ...            0    NaN    NaN         NaN   \n",
       "1454         Lvl    AllPub    ...            0    NaN    NaN         NaN   \n",
       "1455         Lvl    AllPub    ...            0    NaN    NaN         NaN   \n",
       "1456         Lvl    AllPub    ...            0    NaN  MnPrv         NaN   \n",
       "1457         Lvl    AllPub    ...            0    NaN  GdPrv        Shed   \n",
       "1458         Lvl    AllPub    ...            0    NaN    NaN         NaN   \n",
       "1459         Lvl    AllPub    ...            0    NaN    NaN         NaN   \n",
       "\n",
       "     MiscVal MoSold YrSold  SaleType  SaleCondition  SalePrice  \n",
       "0          0      2   2008        WD         Normal     208500  \n",
       "1          0      5   2007        WD         Normal     181500  \n",
       "2          0      9   2008        WD         Normal     223500  \n",
       "3          0      2   2006        WD        Abnorml     140000  \n",
       "4          0     12   2008        WD         Normal     250000  \n",
       "5        700     10   2009        WD         Normal     143000  \n",
       "6          0      8   2007        WD         Normal     307000  \n",
       "7        350     11   2009        WD         Normal     200000  \n",
       "8          0      4   2008        WD        Abnorml     129900  \n",
       "9          0      1   2008        WD         Normal     118000  \n",
       "10         0      2   2008        WD         Normal     129500  \n",
       "11         0      7   2006       New        Partial     345000  \n",
       "12         0      9   2008        WD         Normal     144000  \n",
       "13         0      8   2007       New        Partial     279500  \n",
       "14         0      5   2008        WD         Normal     157000  \n",
       "15         0      7   2007        WD         Normal     132000  \n",
       "16       700      3   2010        WD         Normal     149000  \n",
       "17       500     10   2006        WD         Normal      90000  \n",
       "18         0      6   2008        WD         Normal     159000  \n",
       "19         0      5   2009       COD        Abnorml     139000  \n",
       "20         0     11   2006       New        Partial     325300  \n",
       "21         0      6   2007        WD         Normal     139400  \n",
       "22         0      9   2008        WD         Normal     230000  \n",
       "23         0      6   2007        WD         Normal     129900  \n",
       "24         0      5   2010        WD         Normal     154000  \n",
       "25         0      7   2009        WD         Normal     256300  \n",
       "26         0      5   2010        WD         Normal     134800  \n",
       "27         0      5   2010        WD         Normal     306000  \n",
       "28         0     12   2006        WD         Normal     207500  \n",
       "29         0      5   2008        WD         Normal      68500  \n",
       "...      ...    ...    ...       ...            ...        ...  \n",
       "1430       0      7   2006        WD         Normal     192140  \n",
       "1431       0     10   2009        WD         Normal     143750  \n",
       "1432       0      8   2007        WD         Normal      64500  \n",
       "1433       0      5   2008        WD         Normal     186500  \n",
       "1434       0      5   2006        WD         Normal     160000  \n",
       "1435       0      7   2008       COD        Abnorml     174000  \n",
       "1436       0      5   2007        WD         Normal     120500  \n",
       "1437       0     11   2008       New        Partial     394617  \n",
       "1438       0      4   2010        WD         Normal     149700  \n",
       "1439       0     11   2007        WD         Normal     197000  \n",
       "1440       0      9   2008        WD         Normal     191000  \n",
       "1441       0      5   2008        WD         Normal     149300  \n",
       "1442       0      4   2009        WD         Normal     310000  \n",
       "1443       0      5   2009        WD         Normal     121000  \n",
       "1444       0     11   2007        WD         Normal     179600  \n",
       "1445       0      5   2007        WD         Normal     129000  \n",
       "1446       0      4   2010        WD         Normal     157900  \n",
       "1447       0     12   2007        WD         Normal     240000  \n",
       "1448       0      5   2007        WD         Normal     112000  \n",
       "1449       0      8   2006        WD        Abnorml      92000  \n",
       "1450       0      9   2009        WD         Normal     136000  \n",
       "1451       0      5   2009       New        Partial     287090  \n",
       "1452       0      5   2006        WD         Normal     145000  \n",
       "1453       0      7   2006        WD        Abnorml      84500  \n",
       "1454       0     10   2009        WD         Normal     185000  \n",
       "1455       0      8   2007        WD         Normal     175000  \n",
       "1456       0      2   2010        WD         Normal     210000  \n",
       "1457    2500      5   2010        WD         Normal     266500  \n",
       "1458       0      4   2010        WD         Normal     142125  \n",
       "1459       0      6   2008        WD         Normal     147500  \n",
       "\n",
       "[1460 rows x 81 columns]>"
      ]
     },
     "execution_count": 2,
     "metadata": {},
     "output_type": "execute_result"
    }
   ],
   "source": [
    "df.info\n",
    "# Your code here"
   ]
  },
  {
   "cell_type": "markdown",
   "metadata": {},
   "source": [
    "We'll make a first selection of the data by removing some of the data with `dtype = object`, this way our first model only contains **continuous features**\n",
    "\n",
    "Make sure to remove the SalesPrice column from the predictors (which you store in `X`), then replace missing inputs by the median per feature.\n",
    "\n",
    "Store the target in `y`."
   ]
  },
  {
   "cell_type": "code",
   "execution_count": 3,
   "metadata": {},
   "outputs": [],
   "source": [
    "# Load necessary packages\n",
    "import numpy as np\n",
    "from sklearn.model_selection import train_test_split\n",
    "from sklearn.linear_model import LinearRegression\n",
    "# remove \"object\"-type features and SalesPrice from `X`\n",
    "features = [col for col in df.columns if df[col].dtype in [np.float64, np.int64] and col!='SalePrice']\n",
    "X = df[features]\n",
    "# Impute null values\n",
    "y=df.SalePrice\n",
    "df=df.drop('SalePrice', axis=1)\n",
    "df.fillna(df.median(), inplace=True)\n",
    "# Create y\n",
    "X=df"
   ]
  },
  {
   "cell_type": "markdown",
   "metadata": {},
   "source": [
    "Look at the information of `X` again"
   ]
  },
  {
   "cell_type": "code",
   "execution_count": 4,
   "metadata": {},
   "outputs": [
    {
     "data": {
      "text/plain": [
       "<bound method DataFrame.info of         Id  MSSubClass  LotFrontage  LotArea  OverallQual  OverallCond  \\\n",
       "0        1          60         65.0     8450            7            5   \n",
       "1        2          20         80.0     9600            6            8   \n",
       "2        3          60         68.0    11250            7            5   \n",
       "3        4          70         60.0     9550            7            5   \n",
       "4        5          60         84.0    14260            8            5   \n",
       "5        6          50         85.0    14115            5            5   \n",
       "6        7          20         75.0    10084            8            5   \n",
       "7        8          60         69.0    10382            7            6   \n",
       "8        9          50         51.0     6120            7            5   \n",
       "9       10         190         50.0     7420            5            6   \n",
       "10      11          20         70.0    11200            5            5   \n",
       "11      12          60         85.0    11924            9            5   \n",
       "12      13          20         69.0    12968            5            6   \n",
       "13      14          20         91.0    10652            7            5   \n",
       "14      15          20         69.0    10920            6            5   \n",
       "15      16          45         51.0     6120            7            8   \n",
       "16      17          20         69.0    11241            6            7   \n",
       "17      18          90         72.0    10791            4            5   \n",
       "18      19          20         66.0    13695            5            5   \n",
       "19      20          20         70.0     7560            5            6   \n",
       "20      21          60        101.0    14215            8            5   \n",
       "21      22          45         57.0     7449            7            7   \n",
       "22      23          20         75.0     9742            8            5   \n",
       "23      24         120         44.0     4224            5            7   \n",
       "24      25          20         69.0     8246            5            8   \n",
       "25      26          20        110.0    14230            8            5   \n",
       "26      27          20         60.0     7200            5            7   \n",
       "27      28          20         98.0    11478            8            5   \n",
       "28      29          20         47.0    16321            5            6   \n",
       "29      30          30         60.0     6324            4            6   \n",
       "...    ...         ...          ...      ...          ...          ...   \n",
       "1430  1431          60         60.0    21930            5            5   \n",
       "1431  1432         120         69.0     4928            6            6   \n",
       "1432  1433          30         60.0    10800            4            6   \n",
       "1433  1434          60         93.0    10261            6            5   \n",
       "1434  1435          20         80.0    17400            5            5   \n",
       "1435  1436          20         80.0     8400            6            9   \n",
       "1436  1437          20         60.0     9000            4            6   \n",
       "1437  1438          20         96.0    12444            8            5   \n",
       "1438  1439          20         90.0     7407            6            7   \n",
       "1439  1440          60         80.0    11584            7            6   \n",
       "1440  1441          70         79.0    11526            6            7   \n",
       "1441  1442         120         69.0     4426            6            5   \n",
       "1442  1443          60         85.0    11003           10            5   \n",
       "1443  1444          30         69.0     8854            6            6   \n",
       "1444  1445          20         63.0     8500            7            5   \n",
       "1445  1446          85         70.0     8400            6            5   \n",
       "1446  1447          20         69.0    26142            5            7   \n",
       "1447  1448          60         80.0    10000            8            5   \n",
       "1448  1449          50         70.0    11767            4            7   \n",
       "1449  1450         180         21.0     1533            5            7   \n",
       "1450  1451          90         60.0     9000            5            5   \n",
       "1451  1452          20         78.0     9262            8            5   \n",
       "1452  1453         180         35.0     3675            5            5   \n",
       "1453  1454          20         90.0    17217            5            5   \n",
       "1454  1455          20         62.0     7500            7            5   \n",
       "1455  1456          60         62.0     7917            6            5   \n",
       "1456  1457          20         85.0    13175            6            6   \n",
       "1457  1458          70         66.0     9042            7            9   \n",
       "1458  1459          20         68.0     9717            5            6   \n",
       "1459  1460          20         75.0     9937            5            6   \n",
       "\n",
       "      YearBuilt  YearRemodAdd  MasVnrArea  BsmtFinSF1   ...    GarageArea  \\\n",
       "0          2003          2003       196.0         706   ...           548   \n",
       "1          1976          1976         0.0         978   ...           460   \n",
       "2          2001          2002       162.0         486   ...           608   \n",
       "3          1915          1970         0.0         216   ...           642   \n",
       "4          2000          2000       350.0         655   ...           836   \n",
       "5          1993          1995         0.0         732   ...           480   \n",
       "6          2004          2005       186.0        1369   ...           636   \n",
       "7          1973          1973       240.0         859   ...           484   \n",
       "8          1931          1950         0.0           0   ...           468   \n",
       "9          1939          1950         0.0         851   ...           205   \n",
       "10         1965          1965         0.0         906   ...           384   \n",
       "11         2005          2006       286.0         998   ...           736   \n",
       "12         1962          1962         0.0         737   ...           352   \n",
       "13         2006          2007       306.0           0   ...           840   \n",
       "14         1960          1960       212.0         733   ...           352   \n",
       "15         1929          2001         0.0           0   ...           576   \n",
       "16         1970          1970       180.0         578   ...           480   \n",
       "17         1967          1967         0.0           0   ...           516   \n",
       "18         2004          2004         0.0         646   ...           576   \n",
       "19         1958          1965         0.0         504   ...           294   \n",
       "20         2005          2006       380.0           0   ...           853   \n",
       "21         1930          1950         0.0           0   ...           280   \n",
       "22         2002          2002       281.0           0   ...           534   \n",
       "23         1976          1976         0.0         840   ...           572   \n",
       "24         1968          2001         0.0         188   ...           270   \n",
       "25         2007          2007       640.0           0   ...           890   \n",
       "26         1951          2000         0.0         234   ...           576   \n",
       "27         2007          2008       200.0        1218   ...           772   \n",
       "28         1957          1997         0.0        1277   ...           319   \n",
       "29         1927          1950         0.0           0   ...           240   \n",
       "...         ...           ...         ...         ...   ...           ...   \n",
       "1430       2005          2005         0.0           0   ...           372   \n",
       "1431       1976          1976         0.0         958   ...           440   \n",
       "1432       1927          2007         0.0           0   ...           216   \n",
       "1433       2000          2000       318.0           0   ...           451   \n",
       "1434       1977          1977         0.0         936   ...           484   \n",
       "1435       1962          2005       237.0           0   ...           462   \n",
       "1436       1971          1971         0.0         616   ...           528   \n",
       "1437       2008          2008       426.0        1336   ...           774   \n",
       "1438       1957          1996         0.0         600   ...           923   \n",
       "1439       1979          1979        96.0         315   ...           550   \n",
       "1440       1922          1994         0.0           0   ...           672   \n",
       "1441       2004          2004       147.0         697   ...           420   \n",
       "1442       2008          2008       160.0         765   ...           812   \n",
       "1443       1916          1950         0.0           0   ...           192   \n",
       "1444       2004          2004       106.0           0   ...           626   \n",
       "1445       1966          1966         0.0         187   ...           240   \n",
       "1446       1962          1962       189.0         593   ...           312   \n",
       "1447       1995          1996       438.0        1079   ...           556   \n",
       "1448       1910          2000         0.0           0   ...           384   \n",
       "1449       1970          1970         0.0         553   ...             0   \n",
       "1450       1974          1974         0.0           0   ...             0   \n",
       "1451       2008          2009       194.0           0   ...           840   \n",
       "1452       2005          2005        80.0         547   ...           525   \n",
       "1453       2006          2006         0.0           0   ...             0   \n",
       "1454       2004          2005         0.0         410   ...           400   \n",
       "1455       1999          2000         0.0           0   ...           460   \n",
       "1456       1978          1988       119.0         790   ...           500   \n",
       "1457       1941          2006         0.0         275   ...           252   \n",
       "1458       1950          1996         0.0          49   ...           240   \n",
       "1459       1965          1965         0.0         830   ...           276   \n",
       "\n",
       "      WoodDeckSF  OpenPorchSF  EnclosedPorch  3SsnPorch  ScreenPorch  \\\n",
       "0              0           61              0          0            0   \n",
       "1            298            0              0          0            0   \n",
       "2              0           42              0          0            0   \n",
       "3              0           35            272          0            0   \n",
       "4            192           84              0          0            0   \n",
       "5             40           30              0        320            0   \n",
       "6            255           57              0          0            0   \n",
       "7            235          204            228          0            0   \n",
       "8             90            0            205          0            0   \n",
       "9              0            4              0          0            0   \n",
       "10             0            0              0          0            0   \n",
       "11           147           21              0          0            0   \n",
       "12           140            0              0          0          176   \n",
       "13           160           33              0          0            0   \n",
       "14             0          213            176          0            0   \n",
       "15            48          112              0          0            0   \n",
       "16             0            0              0          0            0   \n",
       "17             0            0              0          0            0   \n",
       "18             0          102              0          0            0   \n",
       "19             0            0              0          0            0   \n",
       "20           240          154              0          0            0   \n",
       "21             0            0            205          0            0   \n",
       "22           171          159              0          0            0   \n",
       "23           100          110              0          0            0   \n",
       "24           406           90              0          0            0   \n",
       "25             0           56              0          0            0   \n",
       "26           222           32              0          0            0   \n",
       "27             0           50              0          0            0   \n",
       "28           288          258              0          0            0   \n",
       "29            49            0             87          0            0   \n",
       "...          ...          ...            ...        ...          ...   \n",
       "1430         100           40              0          0            0   \n",
       "1431           0           60              0          0            0   \n",
       "1432           0            0              0          0            0   \n",
       "1433           0            0              0          0            0   \n",
       "1434         295           41              0          0            0   \n",
       "1435           0           36              0          0            0   \n",
       "1436           0            0              0          0            0   \n",
       "1437           0           66              0        304            0   \n",
       "1438           0          158            158          0            0   \n",
       "1439           0           88            216          0            0   \n",
       "1440         431            0              0          0            0   \n",
       "1441         149            0              0          0            0   \n",
       "1442         168           52              0          0            0   \n",
       "1443           0           98              0          0           40   \n",
       "1444         192           60              0          0            0   \n",
       "1445           0            0            252          0            0   \n",
       "1446         261           39              0          0            0   \n",
       "1447           0           65              0          0            0   \n",
       "1448         168           24              0          0            0   \n",
       "1449           0            0              0          0            0   \n",
       "1450          32           45              0          0            0   \n",
       "1451           0           36              0          0            0   \n",
       "1452           0           28              0          0            0   \n",
       "1453          36           56              0          0            0   \n",
       "1454           0          113              0          0            0   \n",
       "1455           0           40              0          0            0   \n",
       "1456         349            0              0          0            0   \n",
       "1457           0           60              0          0            0   \n",
       "1458         366            0            112          0            0   \n",
       "1459         736           68              0          0            0   \n",
       "\n",
       "      PoolArea  MiscVal  MoSold  YrSold  \n",
       "0            0        0       2    2008  \n",
       "1            0        0       5    2007  \n",
       "2            0        0       9    2008  \n",
       "3            0        0       2    2006  \n",
       "4            0        0      12    2008  \n",
       "5            0      700      10    2009  \n",
       "6            0        0       8    2007  \n",
       "7            0      350      11    2009  \n",
       "8            0        0       4    2008  \n",
       "9            0        0       1    2008  \n",
       "10           0        0       2    2008  \n",
       "11           0        0       7    2006  \n",
       "12           0        0       9    2008  \n",
       "13           0        0       8    2007  \n",
       "14           0        0       5    2008  \n",
       "15           0        0       7    2007  \n",
       "16           0      700       3    2010  \n",
       "17           0      500      10    2006  \n",
       "18           0        0       6    2008  \n",
       "19           0        0       5    2009  \n",
       "20           0        0      11    2006  \n",
       "21           0        0       6    2007  \n",
       "22           0        0       9    2008  \n",
       "23           0        0       6    2007  \n",
       "24           0        0       5    2010  \n",
       "25           0        0       7    2009  \n",
       "26           0        0       5    2010  \n",
       "27           0        0       5    2010  \n",
       "28           0        0      12    2006  \n",
       "29           0        0       5    2008  \n",
       "...        ...      ...     ...     ...  \n",
       "1430         0        0       7    2006  \n",
       "1431         0        0      10    2009  \n",
       "1432         0        0       8    2007  \n",
       "1433         0        0       5    2008  \n",
       "1434         0        0       5    2006  \n",
       "1435         0        0       7    2008  \n",
       "1436         0        0       5    2007  \n",
       "1437         0        0      11    2008  \n",
       "1438         0        0       4    2010  \n",
       "1439         0        0      11    2007  \n",
       "1440         0        0       9    2008  \n",
       "1441         0        0       5    2008  \n",
       "1442         0        0       4    2009  \n",
       "1443         0        0       5    2009  \n",
       "1444         0        0      11    2007  \n",
       "1445         0        0       5    2007  \n",
       "1446         0        0       4    2010  \n",
       "1447         0        0      12    2007  \n",
       "1448         0        0       5    2007  \n",
       "1449         0        0       8    2006  \n",
       "1450         0        0       9    2009  \n",
       "1451         0        0       5    2009  \n",
       "1452         0        0       5    2006  \n",
       "1453         0        0       7    2006  \n",
       "1454         0        0      10    2009  \n",
       "1455         0        0       8    2007  \n",
       "1456         0        0       2    2010  \n",
       "1457         0     2500       5    2010  \n",
       "1458         0        0       4    2010  \n",
       "1459         0        0       6    2008  \n",
       "\n",
       "[1460 rows x 37 columns]>"
      ]
     },
     "execution_count": 4,
     "metadata": {},
     "output_type": "execute_result"
    }
   ],
   "source": [
    "X.info"
   ]
  },
  {
   "cell_type": "markdown",
   "metadata": {},
   "source": [
    "## Let's use this data to perform a first naive linear regression model"
   ]
  },
  {
   "cell_type": "markdown",
   "metadata": {},
   "source": [
    "Compute the R squared and the MSE for both train and test set."
   ]
  },
  {
   "cell_type": "code",
   "execution_count": 5,
   "metadata": {},
   "outputs": [
    {
     "name": "stdout",
     "output_type": "stream",
     "text": [
      "Training r^2: 0.8161161335154011\n",
      "Testing r^2: 0.779556254443479\n",
      "Training MSE: 1108560758.3026094\n",
      "Testing MSE: 1574204641.5811603\n"
     ]
    }
   ],
   "source": [
    "from sklearn.metrics import mean_squared_error, mean_squared_log_error\n",
    "\n",
    "# Split in train and test\n",
    "X_train, X_test, y_train, y_test = train_test_split(X,y)\n",
    "\n",
    "# Fit the model and print R2 and MSE for train and test\n",
    "\n",
    "linreg = LinearRegression()\n",
    "linreg.fit(X_train, y_train)\n",
    "\n",
    "print('Training r^2:', linreg.score(X_train, y_train))\n",
    "print('Testing r^2:', linreg.score(X_test, y_test))\n",
    "print('Training MSE:', mean_squared_error(y_train, linreg.predict(X_train)))\n",
    "print('Testing MSE:', mean_squared_error(y_test, linreg.predict(X_test)))\n"
   ]
  },
  {
   "cell_type": "markdown",
   "metadata": {},
   "source": [
    "## Normalize your data"
   ]
  },
  {
   "cell_type": "markdown",
   "metadata": {},
   "source": [
    "We haven't normalized our data, let's create a new model that uses `preprocessing.scale` to scale our predictors!"
   ]
  },
  {
   "cell_type": "code",
   "execution_count": 6,
   "metadata": {},
   "outputs": [],
   "source": [
    "from sklearn import preprocessing\n",
    "\n",
    "# Scale the data and perform train test split\n",
    "\n",
    "X_scaled = preprocessing.scale(X)\n",
    "\n",
    "X_train, X_test, y_train, y_test = train_test_split(X_scaled,y)"
   ]
  },
  {
   "cell_type": "markdown",
   "metadata": {},
   "source": [
    "Perform the same linear regression on this data and print out R-squared and MSE."
   ]
  },
  {
   "cell_type": "code",
   "execution_count": 7,
   "metadata": {},
   "outputs": [
    {
     "name": "stdout",
     "output_type": "stream",
     "text": [
      "Training r^2: 0.7988946577941559\n",
      "Testing r^2: 0.8512980361681883\n",
      "Training MSE: 1314969411.7981951\n",
      "Testing MSE: 833993343.6965289\n"
     ]
    }
   ],
   "source": [
    "linreg_norm = LinearRegression()\n",
    "linreg_norm.fit(X_train, y_train)\n",
    "print('Training r^2:', linreg_norm.score(X_train, y_train))\n",
    "print('Testing r^2:', linreg_norm.score(X_test, y_test))\n",
    "print('Training MSE:', mean_squared_error(y_train, linreg_norm.predict(X_train)))\n",
    "print('Testing MSE:', mean_squared_error(y_test, linreg_norm.predict(X_test)))"
   ]
  },
  {
   "cell_type": "markdown",
   "metadata": {},
   "source": [
    "## Include dummy variables"
   ]
  },
  {
   "cell_type": "markdown",
   "metadata": {},
   "source": [
    "We haven't included dummy variables so far: let's use our \"object\" variables again and create dummies"
   ]
  },
  {
   "cell_type": "code",
   "execution_count": 8,
   "metadata": {},
   "outputs": [
    {
     "data": {
      "text/plain": [
       "(1460, 0)"
      ]
     },
     "execution_count": 8,
     "metadata": {},
     "output_type": "execute_result"
    }
   ],
   "source": [
    "# Create X_cat which contains only the categorical variables\n",
    "features_cat = [col for col in df.columns if df[col].dtype in [np.object]]\n",
    "X_cat = df[features_cat]\n",
    "\n",
    "np.shape(X_cat)"
   ]
  },
  {
   "cell_type": "code",
   "execution_count": 9,
   "metadata": {},
   "outputs": [
    {
     "ename": "ValueError",
     "evalue": "No objects to concatenate",
     "output_type": "error",
     "traceback": [
      "\u001b[0;31m\u001b[0m",
      "\u001b[0;31mValueError\u001b[0mTraceback (most recent call last)",
      "\u001b[0;32m<ipython-input-9-f4d0915edc19>\u001b[0m in \u001b[0;36m<module>\u001b[0;34m()\u001b[0m\n\u001b[1;32m      1\u001b[0m \u001b[0;31m# Make dummies\u001b[0m\u001b[0;34m\u001b[0m\u001b[0;34m\u001b[0m\u001b[0m\n\u001b[0;32m----> 2\u001b[0;31m \u001b[0mX_cat\u001b[0m \u001b[0;34m=\u001b[0m \u001b[0mpd\u001b[0m\u001b[0;34m.\u001b[0m\u001b[0mget_dummies\u001b[0m\u001b[0;34m(\u001b[0m\u001b[0mX_cat\u001b[0m\u001b[0;34m)\u001b[0m\u001b[0;34m\u001b[0m\u001b[0m\n\u001b[0m\u001b[1;32m      3\u001b[0m \u001b[0mnp\u001b[0m\u001b[0;34m.\u001b[0m\u001b[0mshape\u001b[0m\u001b[0;34m(\u001b[0m\u001b[0mX_cat\u001b[0m\u001b[0;34m)\u001b[0m\u001b[0;34m\u001b[0m\u001b[0m\n",
      "\u001b[0;32m/opt/conda/envs/learn-env/lib/python3.6/site-packages/pandas/core/reshape/reshape.py\u001b[0m in \u001b[0;36mget_dummies\u001b[0;34m(data, prefix, prefix_sep, dummy_na, columns, sparse, drop_first, dtype)\u001b[0m\n\u001b[1;32m    892\u001b[0m                                     drop_first=drop_first, dtype=dtype)\n\u001b[1;32m    893\u001b[0m             \u001b[0mwith_dummies\u001b[0m\u001b[0;34m.\u001b[0m\u001b[0mappend\u001b[0m\u001b[0;34m(\u001b[0m\u001b[0mdummy\u001b[0m\u001b[0;34m)\u001b[0m\u001b[0;34m\u001b[0m\u001b[0m\n\u001b[0;32m--> 894\u001b[0;31m         \u001b[0mresult\u001b[0m \u001b[0;34m=\u001b[0m \u001b[0mconcat\u001b[0m\u001b[0;34m(\u001b[0m\u001b[0mwith_dummies\u001b[0m\u001b[0;34m,\u001b[0m \u001b[0maxis\u001b[0m\u001b[0;34m=\u001b[0m\u001b[0;36m1\u001b[0m\u001b[0;34m)\u001b[0m\u001b[0;34m\u001b[0m\u001b[0m\n\u001b[0m\u001b[1;32m    895\u001b[0m     \u001b[0;32melse\u001b[0m\u001b[0;34m:\u001b[0m\u001b[0;34m\u001b[0m\u001b[0m\n\u001b[1;32m    896\u001b[0m         result = _get_dummies_1d(data, prefix, prefix_sep, dummy_na,\n",
      "\u001b[0;32m/opt/conda/envs/learn-env/lib/python3.6/site-packages/pandas/core/reshape/concat.py\u001b[0m in \u001b[0;36mconcat\u001b[0;34m(objs, axis, join, join_axes, ignore_index, keys, levels, names, verify_integrity, sort, copy)\u001b[0m\n\u001b[1;32m    223\u001b[0m                        \u001b[0mkeys\u001b[0m\u001b[0;34m=\u001b[0m\u001b[0mkeys\u001b[0m\u001b[0;34m,\u001b[0m \u001b[0mlevels\u001b[0m\u001b[0;34m=\u001b[0m\u001b[0mlevels\u001b[0m\u001b[0;34m,\u001b[0m \u001b[0mnames\u001b[0m\u001b[0;34m=\u001b[0m\u001b[0mnames\u001b[0m\u001b[0;34m,\u001b[0m\u001b[0;34m\u001b[0m\u001b[0m\n\u001b[1;32m    224\u001b[0m                        \u001b[0mverify_integrity\u001b[0m\u001b[0;34m=\u001b[0m\u001b[0mverify_integrity\u001b[0m\u001b[0;34m,\u001b[0m\u001b[0;34m\u001b[0m\u001b[0m\n\u001b[0;32m--> 225\u001b[0;31m                        copy=copy, sort=sort)\n\u001b[0m\u001b[1;32m    226\u001b[0m     \u001b[0;32mreturn\u001b[0m \u001b[0mop\u001b[0m\u001b[0;34m.\u001b[0m\u001b[0mget_result\u001b[0m\u001b[0;34m(\u001b[0m\u001b[0;34m)\u001b[0m\u001b[0;34m\u001b[0m\u001b[0m\n\u001b[1;32m    227\u001b[0m \u001b[0;34m\u001b[0m\u001b[0m\n",
      "\u001b[0;32m/opt/conda/envs/learn-env/lib/python3.6/site-packages/pandas/core/reshape/concat.py\u001b[0m in \u001b[0;36m__init__\u001b[0;34m(self, objs, axis, join, join_axes, keys, levels, names, ignore_index, verify_integrity, copy, sort)\u001b[0m\n\u001b[1;32m    257\u001b[0m \u001b[0;34m\u001b[0m\u001b[0m\n\u001b[1;32m    258\u001b[0m         \u001b[0;32mif\u001b[0m \u001b[0mlen\u001b[0m\u001b[0;34m(\u001b[0m\u001b[0mobjs\u001b[0m\u001b[0;34m)\u001b[0m \u001b[0;34m==\u001b[0m \u001b[0;36m0\u001b[0m\u001b[0;34m:\u001b[0m\u001b[0;34m\u001b[0m\u001b[0m\n\u001b[0;32m--> 259\u001b[0;31m             \u001b[0;32mraise\u001b[0m \u001b[0mValueError\u001b[0m\u001b[0;34m(\u001b[0m\u001b[0;34m'No objects to concatenate'\u001b[0m\u001b[0;34m)\u001b[0m\u001b[0;34m\u001b[0m\u001b[0m\n\u001b[0m\u001b[1;32m    260\u001b[0m \u001b[0;34m\u001b[0m\u001b[0m\n\u001b[1;32m    261\u001b[0m         \u001b[0;32mif\u001b[0m \u001b[0mkeys\u001b[0m \u001b[0;32mis\u001b[0m \u001b[0;32mNone\u001b[0m\u001b[0;34m:\u001b[0m\u001b[0;34m\u001b[0m\u001b[0m\n",
      "\u001b[0;31mValueError\u001b[0m: No objects to concatenate"
     ]
    }
   ],
   "source": [
    "# Make dummies\n",
    "X_cat = pd.get_dummies(X_cat)\n",
    "np.shape(X_cat)"
   ]
  },
  {
   "cell_type": "markdown",
   "metadata": {},
   "source": [
    "Merge `x_cat` together with our scaled `X` so you have one big predictor dataframe."
   ]
  },
  {
   "cell_type": "code",
   "execution_count": null,
   "metadata": {},
   "outputs": [],
   "source": [
    "# Your code here"
   ]
  },
  {
   "cell_type": "markdown",
   "metadata": {},
   "source": [
    "Perform the same linear regression on this data and print out R-squared and MSE."
   ]
  },
  {
   "cell_type": "code",
   "execution_count": null,
   "metadata": {},
   "outputs": [],
   "source": [
    "# Your code here"
   ]
  },
  {
   "cell_type": "markdown",
   "metadata": {},
   "source": [
    "Notice the severe overfitting above; our training R squared is quite high, but the testing R squared is negative! Our predictions are far far off. Similarly, the scale of the Testing MSE is orders of magnitude higher then that of the training."
   ]
  },
  {
   "cell_type": "markdown",
   "metadata": {},
   "source": [
    "## Perform Ridge and Lasso regression"
   ]
  },
  {
   "cell_type": "markdown",
   "metadata": {},
   "source": [
    "Use all the data (normalized features and dummy categorical variables) and perform Lasso and Ridge regression for both! Each time, look at R-squared and MSE."
   ]
  },
  {
   "cell_type": "markdown",
   "metadata": {},
   "source": [
    "## Lasso"
   ]
  },
  {
   "cell_type": "markdown",
   "metadata": {},
   "source": [
    "With default parameter (alpha = 1)"
   ]
  },
  {
   "cell_type": "code",
   "execution_count": null,
   "metadata": {},
   "outputs": [],
   "source": [
    "# Your code here"
   ]
  },
  {
   "cell_type": "markdown",
   "metadata": {},
   "source": [
    "With a higher regularization parameter (alpha = 10)"
   ]
  },
  {
   "cell_type": "code",
   "execution_count": null,
   "metadata": {},
   "outputs": [],
   "source": [
    "# Your code here"
   ]
  },
  {
   "cell_type": "markdown",
   "metadata": {},
   "source": [
    "## Ridge"
   ]
  },
  {
   "cell_type": "markdown",
   "metadata": {},
   "source": [
    "With default parameter (alpha = 1)"
   ]
  },
  {
   "cell_type": "code",
   "execution_count": null,
   "metadata": {},
   "outputs": [],
   "source": [
    "# Your code here"
   ]
  },
  {
   "cell_type": "markdown",
   "metadata": {},
   "source": [
    "With default parameter (alpha = 10)"
   ]
  },
  {
   "cell_type": "code",
   "execution_count": null,
   "metadata": {},
   "outputs": [],
   "source": [
    "# Your code here"
   ]
  },
  {
   "cell_type": "markdown",
   "metadata": {},
   "source": [
    "## Look at the metrics, what are your main conclusions?"
   ]
  },
  {
   "cell_type": "markdown",
   "metadata": {},
   "source": [
    "Conclusions here"
   ]
  },
  {
   "cell_type": "markdown",
   "metadata": {},
   "source": [
    "## Compare number of parameter estimates that are (very close to) 0 for Ridge and Lasso"
   ]
  },
  {
   "cell_type": "code",
   "execution_count": null,
   "metadata": {},
   "outputs": [],
   "source": [
    "# number of Ridge params almost zero"
   ]
  },
  {
   "cell_type": "code",
   "execution_count": null,
   "metadata": {},
   "outputs": [],
   "source": [
    "# number of Lasso params almost zero"
   ]
  },
  {
   "cell_type": "markdown",
   "metadata": {},
   "source": [
    "Compare with the total length of the parameter space and draw conclusions!"
   ]
  },
  {
   "cell_type": "code",
   "execution_count": null,
   "metadata": {},
   "outputs": [],
   "source": [
    "# your code here"
   ]
  },
  {
   "cell_type": "markdown",
   "metadata": {},
   "source": [
    "## Summary"
   ]
  },
  {
   "cell_type": "markdown",
   "metadata": {},
   "source": [
    "Great! You now know how to perform Lasso and Ridge regression."
   ]
  }
 ],
 "metadata": {
  "kernelspec": {
   "display_name": "Python 3",
   "language": "python",
   "name": "python3"
  },
  "language_info": {
   "codemirror_mode": {
    "name": "ipython",
    "version": 3
   },
   "file_extension": ".py",
   "mimetype": "text/x-python",
   "name": "python",
   "nbconvert_exporter": "python",
   "pygments_lexer": "ipython3",
   "version": "3.6.6"
  }
 },
 "nbformat": 4,
 "nbformat_minor": 2
}
